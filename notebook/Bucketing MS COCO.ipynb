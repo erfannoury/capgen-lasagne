{
 "cells": [
  {
   "cell_type": "code",
   "execution_count": 1,
   "metadata": {
    "collapsed": true
   },
   "outputs": [],
   "source": [
    "import numpy as np\n",
    "import scipy as sc\n",
    "import matplotlib.pyplot as plt\n",
    "import seaborn as sns\n",
    "from nltk.tokenize import TreebankWordTokenizer\n",
    "from pycocotools.coco import COCO\n",
    "import os\n",
    "import cPickle as pickle\n",
    "sns.set(context='poster')\n",
    "%matplotlib inline"
   ]
  },
  {
   "cell_type": "code",
   "execution_count": 2,
   "metadata": {
    "collapsed": true
   },
   "outputs": [],
   "source": [
    "COCO_BASE_PATH = 'E:/University Central/Bachelor Thesis/datasets/mscoco/'\n",
    "TRAIN_ANNOTATIONS = 'captions_train2014.json'\n",
    "VALID_ANNOTATIONS = 'captions_val2014.json'"
   ]
  },
  {
   "cell_type": "code",
   "execution_count": 4,
   "metadata": {
    "collapsed": false
   },
   "outputs": [
    {
     "name": "stdout",
     "output_type": "stream",
     "text": [
      " loading annotations into memory...\n",
      "Done (t=1.69s)\n",
      "creating index...\n",
      "index created!\n",
      "loading annotations into memory...\n",
      "Done (t=0.81s)\n",
      "creating index...\n",
      "index created!\n"
     ]
    }
   ],
   "source": [
    "cococaptions_train = COCO(annotation_file=os.path.join(COCO_BASE_PATH, 'annotations', TRAIN_ANNOTATIONS))\n",
    "cococaptions_valid = COCO(annotation_file=os.path.join(COCO_BASE_PATH, 'annotations', VALID_ANNOTATIONS))"
   ]
  },
  {
   "cell_type": "code",
   "execution_count": 5,
   "metadata": {
    "collapsed": true
   },
   "outputs": [],
   "source": [
    "train_annId_len = {}\n",
    "wordset = set()\n",
    "valid_annId_len = {}\n",
    "twt = TreebankWordTokenizer()\n",
    "for ann in cococaptions_train.dataset['annotations']:\n",
    "        tokens = twt.tokenize(ann['caption'].lower())\n",
    "        train_annId_len[ann['id']] = len(tokens)\n",
    "        wordset |= set(tokens)\n",
    "for ann in cococaptions_valid.dataset['annotations']:\n",
    "    tokens = twt.tokenize(ann['caption'].lower())\n",
    "    valid_annId_len[ann['id']] = len(tokens)\n",
    "    wordset |= set(tokens)"
   ]
  },
  {
   "cell_type": "code",
   "execution_count": 6,
   "metadata": {
    "collapsed": false
   },
   "outputs": [
    {
     "name": "stdout",
     "output_type": "stream",
     "text": [
      "6 57\n",
      "6 55\n"
     ]
    },
    {
     "data": {
      "image/png": "[encoded data removed]",
      "text/plain": [
       "<matplotlib.figure.Figure at 0xccd7f60>"
      ]
     },
     "metadata": {},
     "output_type": "display_data"
    }
   ],
   "source": [
    "print np.min(train_annId_len.values()), np.max(train_annId_len.values())\n",
    "print np.min(valid_annId_len.values()), np.max(valid_annId_len.values())\n",
    "plt.hist(train_annId_len.values(), bins=20)\n",
    "plt.hist(valid_annId_len.values(), bins=20)\n",
    "plt.show()"
   ]
  },
  {
   "cell_type": "code",
   "execution_count": 7,
   "metadata": {
    "collapsed": true
   },
   "outputs": [],
   "source": [
    "train_buckets = {}\n",
    "valid_buckets = {}\n",
    "seqlens = [16, 32, 64]\n",
    "for sl in seqlens:\n",
    "    train_buckets[sl] = []\n",
    "    valid_buckets[sl] = []\n",
    "def sieve(l):\n",
    "    for sl in seqlens:\n",
    "        if l < sl:\n",
    "            return sl\n",
    "for il in train_annId_len.items():\n",
    "    train_buckets[sieve(il[1])].append(il[0])\n",
    "for il in valid_annId_len.items():\n",
    "    valid_buckets[sieve(il[1])].append(il[0])"
   ]
  },
  {
   "cell_type": "code",
   "execution_count": 8,
   "metadata": {
    "collapsed": false
   },
   "outputs": [
    {
     "name": "stdout",
     "output_type": "stream",
     "text": [
      "391066 191564\n",
      "22680 10931\n",
      "367 159\n"
     ]
    }
   ],
   "source": [
    "for sl in seqlens:\n",
    "    print len(train_buckets[sl]), len(valid_buckets[sl])"
   ]
  },
  {
   "cell_type": "code",
   "execution_count": 9,
   "metadata": {
    "collapsed": true
   },
   "outputs": [],
   "source": [
    "pickle.dump({'raw wordset': wordset, 'train buckets':train_buckets, 'valid buckets':valid_buckets}, \n",
    "            open('coco_captions_trainval2014.pkl', 'wb'), protocol=-1)"
   ]
  },
  {
   "cell_type": "code",
   "execution_count": null,
   "metadata": {
    "collapsed": true
   },
   "outputs": [],
   "source": []
  }
 ],
 "metadata": {
  "kernelspec": {
   "display_name": "Python 2",
   "language": "python",
   "name": "python2"
  },
  "language_info": {
   "codemirror_mode": {
    "name": "ipython",
    "version": 2
   },
   "file_extension": ".py",
   "mimetype": "text/x-python",
   "name": "python",
   "nbconvert_exporter": "python",
   "pygments_lexer": "ipython2",
   "version": "2.7.12"
  }
 },
 "nbformat": 4,
 "nbformat_minor": 0
}
